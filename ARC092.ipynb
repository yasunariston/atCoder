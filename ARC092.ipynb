{
 "cells": [
  {
   "cell_type": "code",
   "execution_count": null,
   "metadata": {
    "collapsed": true
   },
   "outputs": [],
   "source": [
    "N = int(input())\n",
    "red = []\n",
    "blue = []\n",
    "for i in range(N):\n",
    "    red.append(list(map(int, input().split(\" \"))))\n",
    "\n",
    "for i in range(N):\n",
    "    blue.append(list(map(int, input().split(\" \"))))"
   ]
  },
  {
   "cell_type": "code",
   "execution_count": 33,
   "metadata": {},
   "outputs": [
    {
     "name": "stdout",
     "output_type": "stream",
     "text": [
      "2\n",
      "[[10, 10], [10, 10], [10, 10]]\n"
     ]
    }
   ],
   "source": [
    "count = 0\n",
    "\n",
    "for b in range(N):\n",
    "    large = [-1 , -1]\n",
    "    largeNum = None\n",
    "    for r in range(N):\n",
    "        if blue[b][0] >= red[r][0] and  blue[b][1] >= red[r][1]:\n",
    "            if red[r][0] > large[0] and red[r][1] > large[1]:\n",
    "                large = red[r]\n",
    "                largeNum = r\n",
    "    if not largeNum == None:\n",
    "        red[largeNum] = [N ** 2 + 1, N ** 2 + 1]\n",
    "        count += 1\n",
    "\n",
    "print(count)\n",
    "print(red)"
   ]
  },
  {
   "cell_type": "code",
   "execution_count": null,
   "metadata": {
    "collapsed": true
   },
   "outputs": [],
   "source": []
  }
 ],
 "metadata": {
  "kernelspec": {
   "display_name": "Python 3",
   "language": "python",
   "name": "python3"
  },
  "language_info": {
   "codemirror_mode": {
    "name": "ipython",
    "version": 3
   },
   "file_extension": ".py",
   "mimetype": "text/x-python",
   "name": "python",
   "nbconvert_exporter": "python",
   "pygments_lexer": "ipython3",
   "version": "3.6.3"
  }
 },
 "nbformat": 4,
 "nbformat_minor": 2
}
