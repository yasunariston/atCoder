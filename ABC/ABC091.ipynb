{
 "cells": [
  {
   "cell_type": "code",
   "execution_count": 1,
   "metadata": {},
   "outputs": [
    {
     "name": "stdout",
     "output_type": "stream",
     "text": [
      "1 2 3\n",
      "[1, 2, 3]\n"
     ]
    }
   ],
   "source": [
    "ABC = [int(i) for i in input().split()]\n",
    "if ABC[0] + ABC[1] >= ABC[2]:\n",
    "    print(\"Yes\")\n",
    "else:\n",
    "    print(\"No\")"
   ]
  },
  {
   "cell_type": "markdown",
   "metadata": {},
   "source": [
    "word_dic = {}\n",
    "N = int(input())\n",
    "for i in range(N):\n",
    "    word = input()\n",
    "    if word in word_dic.keys():\n",
    "        word_dic[word] += 1\n",
    "    else:\n",
    "        word_dic[word] = 1\n",
    "        \n",
    "M = int(input())\n",
    "for i in range(M):\n",
    "    word = input()\n",
    "    if word in word_dic.keys():\n",
    "        word_dic[word] -= 1\n",
    "        \n",
    "score = max(word_dic.values())\n",
    "if score < 0:\n",
    "    score = 0\n",
    "print(score)"
   ]
  },
  {
   "cell_type": "code",
   "execution_count": 16,
   "metadata": {},
   "outputs": [
    {
     "name": "stdout",
     "output_type": "stream",
     "text": [
      "3\n",
      "2 0\n",
      "3 1\n",
      "1 3\n",
      "4 2\n",
      "0 4\n",
      "5 5\n"
     ]
    }
   ],
   "source": [
    "N = int(input())\n",
    "red = []\n",
    "blue = []\n",
    "for i in range(N):\n",
    "    point = [int(i) for i in input().split()]\n",
    "    red.append((point[0], point[1]))\n",
    "    \n",
    "for i in range(N):\n",
    "    point = [int(i) for i in input().split()]\n",
    "    blue.append((point[0], point[1]))"
   ]
  },
  {
   "cell_type": "code",
   "execution_count": 17,
   "metadata": {},
   "outputs": [
    {
     "name": "stdout",
     "output_type": "stream",
     "text": [
      "[(2, 0), (3, 1), (1, 3)]\n",
      "[(4, 2), (0, 4), (5, 5)]\n",
      "[[True, True, False], [False, False, False], [True, True, True]]\n"
     ]
    }
   ],
   "source": [
    "print(red)\n",
    "print(blue)\n",
    "#リストを\n",
    "pair_list = []\n",
    "for  b in range(N):\n",
    "    blue_list = []\n",
    "    for r in range(N):\n",
    "        if blue[b][0] > red[r][0] and blue[b][1] > red[r][1]:\n",
    "            blue_list.append(True)\n",
    "        else:\n",
    "            blue_list.append(False)\n",
    "    pair_list.append(blue_list)\n",
    "\n",
    "print(pair_list)\n",
    "    \n",
    "            \n",
    "                    "
   ]
  },
  {
   "cell_type": "code",
   "execution_count": 36,
   "metadata": {},
   "outputs": [
    {
     "name": "stdout",
     "output_type": "stream",
     "text": [
      "5\n",
      "1 100 1000 10000 100000\n",
      "1 2 3 4 5\n"
     ]
    }
   ],
   "source": [
    "N = int(input())\n",
    "a_list = [int(i) for i in input().split()]\n",
    "b_list = [int(i) for i in input().split()]"
   ]
  },
  {
   "cell_type": "code",
   "execution_count": null,
   "metadata": {
    "collapsed": true
   },
   "outputs": [],
   "source": [
    "sumA = 0\n",
    "sumB = 0\n",
    "for a in range(N):\n",
    "    sumA ^= list[a] "
   ]
  },
  {
   "cell_type": "code",
   "execution_count": 38,
   "metadata": {},
   "outputs": [
    {
     "name": "stdout",
     "output_type": "stream",
     "text": [
      "107066\n"
     ]
    }
   ],
   "source": [
    "sum_xor = 0\n",
    "for a in range(N):\n",
    "    for b in range(N):\n",
    "        sum_xor ^= a_list[a] + b_list[b]\n",
    "print(sum_xor)    "
   ]
  },
  {
   "cell_type": "code",
   "execution_count": 31,
   "metadata": {},
   "outputs": [
    {
     "name": "stdout",
     "output_type": "stream",
     "text": [
      "120000\n",
      "0:00:00.008768\n"
     ]
    }
   ],
   "source": [
    "import datetime.datetime\n",
    "a = 0\n",
    "start = datetime.now()\n",
    "\n",
    "\n",
    "\n",
    "print(datetime.now() - start)"
   ]
  },
  {
   "cell_type": "code",
   "execution_count": null,
   "metadata": {
    "collapsed": true
   },
   "outputs": [],
   "source": []
  }
 ],
 "metadata": {
  "kernelspec": {
   "display_name": "Python 3",
   "language": "python",
   "name": "python3"
  },
  "language_info": {
   "codemirror_mode": {
    "name": "ipython",
    "version": 3
   },
   "file_extension": ".py",
   "mimetype": "text/x-python",
   "name": "python",
   "nbconvert_exporter": "python",
   "pygments_lexer": "ipython3",
   "version": "3.6.3"
  }
 },
 "nbformat": 4,
 "nbformat_minor": 2
}
