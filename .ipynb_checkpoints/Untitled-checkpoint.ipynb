{
 "cells": [
  {
   "cell_type": "code",
   "execution_count": 71,
   "metadata": {
    "collapsed": true
   },
   "outputs": [],
   "source": [
    "#ペア(a, b)を忘れた 考えられる総数\n",
    "# ペアの数はN以下\n",
    "# a % b >= K\n",
    "N = 31415\n",
    "K = 9265"
   ]
  },
  {
   "cell_type": "code",
   "execution_count": 73,
   "metadata": {},
   "outputs": [
    {
     "name": "stdout",
     "output_type": "stream",
     "text": [
      "407306736\n"
     ]
    }
   ],
   "source": [
    "from itertools import product\n",
    "\n",
    "count = 0\n",
    "\n",
    "if not K == 0:\n",
    "    #商が0になるやつ\n",
    "    count += (N - K + 1)* (N - K) // 2\n",
    "\n",
    "    #商が1以上\n",
    "    for i in range(K * 2 + 1, N + 1):\n",
    "        \n",
    "else:\n",
    "    count += N ** 2\n",
    "    \n",
    "print(count)"
   ]
  },
  {
   "cell_type": "code",
   "execution_count": 4,
   "metadata": {},
   "outputs": [
    {
     "ename": "IndentationError",
     "evalue": "expected an indented block (<ipython-input-4-a99bcf3a05f1>, line 6)",
     "output_type": "error",
     "traceback": [
      "\u001b[0;36m  File \u001b[0;32m\"<ipython-input-4-a99bcf3a05f1>\"\u001b[0;36m, line \u001b[0;32m6\u001b[0m\n\u001b[0;31m    else:\u001b[0m\n\u001b[0m       ^\u001b[0m\n\u001b[0;31mIndentationError\u001b[0m\u001b[0;31m:\u001b[0m expected an indented block\n"
     ]
    }
   ],
   "source": [
    "N, A, B = 5, 3, 2\n",
    "\n",
    "turm = min(A, B)\n",
    "rest = N % turm\n",
    "minLarge = N // turm  + 1\n",
    "difference = (N + 1) - (A + B)\n",
    "\n",
    "if N <= (A + B ) + 1 and max(A, B) >= minLarge:\n",
    "    if A >= B:\n",
    "        array = range(1, N + 1)\n",
    "        for i in range(difference):\n",
    "            chengeArray = range((i + 1) * turm, i * turm + 1)\n",
    "            \n",
    "        \n",
    "else:\n",
    "    print(-1)"
   ]
  },
  {
   "cell_type": "code",
   "execution_count": null,
   "metadata": {
    "collapsed": true
   },
   "outputs": [],
   "source": []
  }
 ],
 "metadata": {
  "kernelspec": {
   "display_name": "Python 3",
   "language": "python",
   "name": "python3"
  },
  "language_info": {
   "codemirror_mode": {
    "name": "ipython",
    "version": 3
   },
   "file_extension": ".py",
   "mimetype": "text/x-python",
   "name": "python",
   "nbconvert_exporter": "python",
   "pygments_lexer": "ipython3",
   "version": "3.6.3"
  }
 },
 "nbformat": 4,
 "nbformat_minor": 2
}
