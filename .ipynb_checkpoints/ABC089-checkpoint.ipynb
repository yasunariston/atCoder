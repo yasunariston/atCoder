{
 "cells": [
  {
   "cell_type": "code",
   "execution_count": 3,
   "metadata": {},
   "outputs": [
    {
     "name": "stdout",
     "output_type": "stream",
     "text": [
      "9\n",
      "3\n"
     ]
    }
   ],
   "source": [
    "N = int(input())\n",
    "\n",
    "print(N // 3)"
   ]
  },
  {
   "cell_type": "code",
   "execution_count": 4,
   "metadata": {},
   "outputs": [
    {
     "name": "stdout",
     "output_type": "stream",
     "text": [
      "6\n",
      "G W Y P Y W\n",
      "Four\n"
     ]
    }
   ],
   "source": [
    "N = int(input())\n",
    "arare = input()\n",
    "\n",
    "if \"Y\" in arare:\n",
    "    print(\"Four\")\n",
    "else:\n",
    "    print(\"Three\")"
   ]
  },
  {
   "cell_type": "code",
   "execution_count": 2,
   "metadata": {},
   "outputs": [
    {
     "name": "stdout",
     "output_type": "stream",
     "text": [
      "5\n",
      "A\n",
      "B\n",
      "C\n",
      "D\n",
      "E\n",
      "0\n"
     ]
    }
   ],
   "source": [
    "import itertools\n",
    "\n",
    "N = int(input())\n",
    "march = {\n",
    "    \"M\": 0,\n",
    "    \"A\": 0,\n",
    "    \"R\": 0,\n",
    "    \"C\": 0,\n",
    "    \"H\": 0\n",
    "    }\n",
    "\n",
    "for i in range(N):\n",
    "    member = input()\n",
    "    for key in march:\n",
    "        if member[0] == key:\n",
    "            march[key] += 1\n",
    "            break\n",
    "\n",
    "combi_list = list(itertools.combinations((list(march.values())), 3))\n",
    "count = sum([i[0] * i[1] * i[2] for i in combi_list])\n",
    "print(count)"
   ]
  },
  {
   "cell_type": "code",
   "execution_count": 22,
   "metadata": {},
   "outputs": [
    {
     "name": "stdout",
     "output_type": "stream",
     "text": [
      "2 4 2\n",
      "1 2 3 4\n",
      "5 6 7 8\n",
      "2\n",
      "2 2\n",
      "3 7\n",
      "0\n",
      "5\n"
     ]
    }
   ],
   "source": [
    "#入力\n",
    "HWD = list(map(int, input().split()))\n",
    "H, W, D = HWD[0], HWD[1],  HWD[2]\n",
    "field = []\n",
    "for i in range(H):\n",
    "    field.append(list(map(int, input().split())))\n",
    "           \n",
    "Q = int(input())\n",
    "target = []\n",
    "for i in range(Q):\n",
    "    target.append(list(map(int, input().split())))\n",
    "\n",
    "#動作\n",
    "for test in range(Q):\n",
    "    count = 0\n",
    "    next_point = target[test][0]\n",
    "    while not next_point == target[test][1]:\n",
    "        now_point = next_point\n",
    "        next_point = now_point + D\n",
    "        for field_h in range(H):\n",
    "            if now_point in field[field_h] or next_point in field[field_h]:\n",
    "                for field_w in range(W):\n",
    "                    if field[field_h][field_w] == now_point:\n",
    "                        now_h = field_h\n",
    "                        now_w = field_w\n",
    "                    if field[field_h][field_w] == next_point:\n",
    "                        next_h = field_h\n",
    "                        next_w = field_w\n",
    "        count += abs(next_h - now_h) + abs(next_w - now_w)\n",
    "    print(count)"
   ]
  },
  {
   "cell_type": "code",
   "execution_count": null,
   "metadata": {
    "collapsed": true
   },
   "outputs": [],
   "source": [
    "#入力\n",
    "HWD = list(map(int, input().split()))\n",
    "H, W, D = HWD[0], HWD[1],  HWD[2]\n",
    "field_dict = {}\n",
    "for h in range(H):\n",
    "    field = list(map(int, input().split()))\n",
    "    for w in range(W):\n",
    "        field_dict[field[w]] = (h, w)\n",
    "\n",
    "#numberからD動かした時の魔力\n",
    "move_dict = {}\n",
    "pre_length = 0\n",
    "for now_point in range(1, H * W + 1):\n",
    "    pre_point = now_point - D\n",
    "    if now_point > D:\n",
    "        pre_length = move_dict[now_point - D]\n",
    "        now_h = field_dict[now_point][0]\n",
    "        now_w = field_dict[now_point][1]\n",
    "        pre_h = field_dict[pre_point][0]\n",
    "        pre_w = field_dict[pre_point][1]\n",
    "        move_dict[now_point] = abs(now_h - pre_h) + abs(now_w - pre_w) + pre_length\n",
    "    else:\n",
    "        move_dict[now_point] = 0\n",
    "           \n",
    "#試験\n",
    "Q = int(input())\n",
    "for test in range(Q):\n",
    "    target = list(map(int, input().split()))\n",
    "    count = move_dict[target[1]] - move_dict[target[0]]\n",
    "    print(count)    "
   ]
  }
 ],
 "metadata": {
  "kernelspec": {
   "display_name": "Python 3",
   "language": "python",
   "name": "python3"
  },
  "language_info": {
   "codemirror_mode": {
    "name": "ipython",
    "version": 3
   },
   "file_extension": ".py",
   "mimetype": "text/x-python",
   "name": "python",
   "nbconvert_exporter": "python",
   "pygments_lexer": "ipython3",
   "version": "3.6.3"
  }
 },
 "nbformat": 4,
 "nbformat_minor": 2
}
