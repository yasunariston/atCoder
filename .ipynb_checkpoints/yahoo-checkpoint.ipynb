{
 "cells": [
  {
   "cell_type": "code",
   "execution_count": 17,
   "metadata": {},
   "outputs": [
    {
     "name": "stdout",
     "output_type": "stream",
     "text": [
      "yahew\n",
      "NO\n"
     ]
    }
   ],
   "source": [
    "word = input()\n",
    "flag = False\n",
    "\n",
    "for i in range(4):\n",
    "    if word[0:3] == \"yah\":\n",
    "        if word[i] == word[i + 1]:\n",
    "            flag = True\n",
    "            break\n",
    "\n",
    "if flag:\n",
    "    print(\"YES\")\n",
    "else:\n",
    "    print(\"NO\")"
   ]
  },
  {
   "cell_type": "code",
   "execution_count": 27,
   "metadata": {},
   "outputs": [
    {
     "name": "stdout",
     "output_type": "stream",
     "text": [
      "100 7\n",
      "10000000\n"
     ]
    }
   ],
   "source": [
    "input_line = input().split()\n",
    "X, K = int(input_line[0]), int(input_line[1])\n",
    "\n",
    "X += 10**K - X % 10**K\n",
    "print(X)"
   ]
  },
  {
   "cell_type": "code",
   "execution_count": 42,
   "metadata": {},
   "outputs": [
    {
     "name": "stdout",
     "output_type": "stream",
     "text": [
      "[100, 100, 300]\n",
      "[1000, 2000, 1000000]\n",
      "[100, 300]\n",
      "[1000, 1000000]\n",
      "[100]\n",
      "[1000]\n",
      "1000\n"
     ]
    }
   ],
   "source": [
    "#駆引取引\n",
    "N = int(input())\n",
    "juery = list(map(int, input().split()))\n",
    "item = list(map(int, input().split()))\n",
    "value = list(map(int, input().split()))\n",
    "\n",
    "import itertools\n",
    "import copy\n",
    "\n",
    "#iターン時の最大値箱\n",
    "ans = []\n",
    "#keyリスト\n",
    "keyList = [i for i in range(N)]\n",
    "\n",
    "patternList = []\n",
    "\n",
    "#全組み合わせを最初にリスト化\n",
    "#x個選択する場合\n",
    "for x in range(N):\n",
    "    for element in itertools.combinations(keyList, x + 1):\n",
    "        sumPrice = 0\n",
    "        sumValue = 0\n",
    "        for key in element:\n",
    "            sumPrice += item[key]\n",
    "            sumValue += value[key]\n",
    "        \n",
    "        #リストにぶち込む\n",
    "        patternList.append([element, sumPrice, sumValue])\n",
    "\n",
    "#iターン時の最大値を求める\n",
    "for turn in range(N):\n",
    "    #iターン時の各要素\n",
    "    copyItem = copy.copy(item)\n",
    "    copyValue = copy.copy(value)\n",
    "    money = sum(juery[0:turn])\n",
    "    \n",
    "    #取引制限なしでの最大値キーの取得(理論上最大値)\n",
    "    maxPoint = 0\n",
    "    for x in range(len(patternList)):\n",
    "        if patternList[x][1] <= money and patternList[x][2] > maxPoint:\n",
    "            maxKey = x\n",
    "    \n",
    "    #理論値キーから、最大valueを持つものから消す(最小値化戦略)\n",
    "    deleteKey = []\n",
    "    for x in range(turn):\n",
    "        maxValue = 0\n",
    "        if x < len(patternList[maxKey][0]):\n",
    "            for y in range(len(patternList[maxKey][0])):\n",
    "                if copyValue[patternList[maxKey][0][y]] > maxValue:\n",
    "                    maxValue = copyValue[patternList[maxKey][0][y]]\n",
    "                    oneTimeKey = patternList[maxKey][0][y]\n",
    "        else:\n",
    "            for y in range(N):\n",
    "                if (copyItem[y] <= money) and((copyValue[y] > maxValue) or (copyValue[y] == maxValue and copyItem[y] < price)):\n",
    "                    price = copyItem[y]\n",
    "                    maxValue = copyValue[y]\n",
    "                    oneTimeKey = y\n",
    "        \n",
    "        deleteKey.append(oneTimeKey)\n",
    "        copyValue[oneTimeKey] = 0\n",
    "                    \n",
    "    #削除\n",
    "    deleteKey.sort(reverse=True)\n",
    "    for i in deleteKey:\n",
    "        del copyItem[i]\n",
    "        del copyValue[i]\n",
    "        \n",
    "    #残った要素からmoneyで買える最大の組み合わせの検出\n",
    "    print(copyItem)\n",
    "    print(copyValue)\n",
    "    \n",
    "    turnAnsList = []\n",
    "    newKeyList = [i for i in range(len(copyValue))]\n",
    "    for x in range(len(copyValue)):\n",
    "        for element in itertools.combinations(newKeyList, x + 1):\n",
    "            sumPrice = 0\n",
    "            sumValue = 0\n",
    "            for key in element:\n",
    "                sumPrice += copyItem[key]\n",
    "                sumValue += copyValue[key]\n",
    "\n",
    "            #リストにぶち込む\n",
    "            if sumPrice <= money:\n",
    "                turnAnsList.append(sumValue)\n",
    "            else:\n",
    "                turnAnsList.append(0)\n",
    "\n",
    "    ans.append(max(turnAnsList))\n",
    "    \n",
    "print(max(ans))"
   ]
  },
  {
   "cell_type": "code",
   "execution_count": 1,
   "metadata": {},
   "outputs": [
    {
     "name": "stdout",
     "output_type": "stream",
     "text": [
      "3\n",
      "200 1000 1\n",
      "100 100 300\n",
      "1000 2000 100000000\n"
     ]
    }
   ],
   "source": [
    "#駆引取引\n",
    "N = int(input())\n",
    "juery = list(map(int, input().split()))\n",
    "item = list(map(int, input().split()))\n",
    "value = list(map(int, input().split()))"
   ]
  },
  {
   "cell_type": "code",
   "execution_count": null,
   "metadata": {
    "collapsed": true
   },
   "outputs": [],
   "source": [
    "#全組み合わせを最初にリスト化\n",
    "#x個選択する場合\n",
    "for x in range(N):\n",
    "    for element in itertools.combinations(keyList, x + 1):\n",
    "        sumPrice = 0\n",
    "        sumValue = 0\n",
    "        for key in element:\n",
    "            sumPrice += item[key]\n",
    "            sumValue += value[key]\n",
    "        \n",
    "        #リストにぶち込む\n",
    "        patternList.append([element, sumPrice, sumValue])"
   ]
  },
  {
   "cell_type": "code",
   "execution_count": null,
   "metadata": {
    "collapsed": true
   },
   "outputs": [],
   "source": [
    "import itertools\n",
    "import copy\n",
    "\n",
    "ans = []\n",
    "keyList = [i for i in range(N)]\n",
    "\n",
    "#財宝販売個数毎の最大得点\n",
    "for i in range(N):\n",
    "    copyItem = copy.copy(item)\n",
    "    copyValue = copy.copy(value)\n",
    "    money = sum(juery[0:i])\n",
    "    \n",
    "    #最大得点の特定\n",
    "    maxValueKey = []\n",
    "    maxValue = 0\n",
    "    for element in itertools.combinations(keyList, i):\n",
    "        valueKey = []\n",
    "        totalValue = 0\n",
    "        totalitem = 0\n",
    "        for key in element:\n",
    "            valueKey.append(key)\n",
    "            totalValue += value[key]\n",
    "            totalitem += item[key]  \n",
    "        \n",
    "        if totalitem <= money and totalValue >= maxValue:\n",
    "            maxValue = totalValue\n",
    "            maxValueKey = valueKey[::-1]\n",
    "            \n",
    "    #最大得点の削除(最小化戦略)\n",
    "    for key in maxValueKey:\n",
    "        del copyItem[key]\n",
    "        del copyValue[key]\n",
    "    \n",
    "    print(copyItem)\n",
    "    #最大得点\n",
    "    afterKeyList = [i for i in range(N - i)]\n",
    "    maxValue = 0\n",
    "    for x in range(len(afterKeyList)):\n",
    "        for element in itertools.combinations(afterKeyList, x + 1):\n",
    "            valueKey = []\n",
    "            totalValue = 0\n",
    "            totalitem = 0\n",
    "            for key in element:\n",
    "                valueKey.append(key)\n",
    "                totalValue += copyValue[key]\n",
    "                totalitem += copyItem[key]  \n",
    "\n",
    "            if totalitem <= money and totalValue >= maxValue:\n",
    "                maxValue = totalValue\n",
    "                maxValueKey = valueKey[::-1]\n",
    "            \n",
    "    ans.append(maxValue)\n",
    "            \n",
    "print(max(ans))"
   ]
  },
  {
   "cell_type": "code",
   "execution_count": null,
   "metadata": {
    "collapsed": true
   },
   "outputs": [],
   "source": []
  }
 ],
 "metadata": {
  "kernelspec": {
   "display_name": "Python 3",
   "language": "python",
   "name": "python3"
  },
  "language_info": {
   "codemirror_mode": {
    "name": "ipython",
    "version": 3
   },
   "file_extension": ".py",
   "mimetype": "text/x-python",
   "name": "python",
   "nbconvert_exporter": "python",
   "pygments_lexer": "ipython3",
   "version": "3.6.3"
  }
 },
 "nbformat": 4,
 "nbformat_minor": 2
}
