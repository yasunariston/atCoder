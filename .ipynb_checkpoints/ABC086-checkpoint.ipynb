{
 "cells": [
  {
   "cell_type": "code",
   "execution_count": 2,
   "metadata": {},
   "outputs": [
    {
     "name": "stdout",
     "output_type": "stream",
     "text": [
      "3 3\n",
      "Odd\n"
     ]
    }
   ],
   "source": [
    "#A\n",
    "N = [int(i) for i in input().split()]\n",
    "a, b = N[0], N[1]\n",
    "\n",
    "if a * b % 2 == 0:\n",
    "    print(\"Even\")\n",
    "else:\n",
    "    print(\"Odd\")"
   ]
  },
  {
   "cell_type": "code",
   "execution_count": 10,
   "metadata": {},
   "outputs": [
    {
     "name": "stdout",
     "output_type": "stream",
     "text": [
      "1 44\n",
      "Yes\n"
     ]
    }
   ],
   "source": [
    "#B\n",
    "import math\n",
    "N = input().split()\n",
    "a, b = N[0], N[1]\n",
    "ab = int(a + b)\n",
    "\n",
    "if float.is_integer(math.sqrt(ab)):\n",
    "    print(\"Yes\")\n",
    "else:\n",
    "    print(\"No\")"
   ]
  },
  {
   "cell_type": "code",
   "execution_count": null,
   "metadata": {
    "collapsed": true
   },
   "outputs": [],
   "source": []
  },
  {
   "cell_type": "code",
   "execution_count": 21,
   "metadata": {},
   "outputs": [
    {
     "name": "stdout",
     "output_type": "stream",
     "text": [
      "2\n",
      "100 100 100\n",
      "No\n"
     ]
    }
   ],
   "source": [
    "#C\n",
    "N = int(input())\n",
    "next_plan = [0, 0, 0]\n",
    "for i in range(N):\n",
    "    now_plan = next_plan\n",
    "    next_plan = [int(i) for i in input().split()]\n",
    "    time = next_plan[0] - now_plan[0]\n",
    "    x = abs(next_plan[1] - now_plan[1])\n",
    "    y = abs(next_plan[2] - now_plan[2])\n",
    "    distance = x + y\n",
    "    if not (distance <= time and (time - distance) % 2 == 0):\n",
    "        print(\"No\")\n",
    "        break\n",
    "else:\n",
    "    print(\"Yes\")"
   ]
  },
  {
   "cell_type": "code",
   "execution_count": 39,
   "metadata": {},
   "outputs": [
    {
     "ename": "IndentationError",
     "evalue": "expected an indented block (<ipython-input-39-a1043dd0c26e>, line 26)",
     "output_type": "error",
     "traceback": [
      "\u001b[0;36m  File \u001b[0;32m\"<ipython-input-39-a1043dd0c26e>\"\u001b[0;36m, line \u001b[0;32m26\u001b[0m\n\u001b[0;31m    print(white_dict)\u001b[0m\n\u001b[0m        ^\u001b[0m\n\u001b[0;31mIndentationError\u001b[0m\u001b[0;31m:\u001b[0m expected an indented block\n"
     ]
    }
   ],
   "source": [
    "NK = [int(i) for i in input().split()]\n",
    "N, K = NK[0], NK[1]\n",
    "large_quad = 2 * K\n",
    "count = 0\n",
    "\n",
    "white_dict = {}\n",
    "for demand in range(N):\n",
    "    xyc = input().split()\n",
    "    x, y = int(xyc[0]) % large_quad, int(xyc[1]) % large_quad\n",
    "    c = 1 if xyc[2] == \"W\" else -1\n",
    "    \n",
    "    if x >= K:\n",
    "        x -= K; c *= -1\n",
    "    if y >= K:\n",
    "        y -= K; c *= -1\n",
    "        \n",
    "    if (x, y) in white_dict.keys():\n",
    "        white_dict[(x, y)] += c\n",
    "        if white_dict[(x, y)] == 0:\n",
    "            count += 1\n",
    "    else:\n",
    "        white_dict[(x, y)] = c\n",
    "\n",
    "print(white_dict)"
   ]
  },
  {
   "cell_type": "code",
   "execution_count": 34,
   "metadata": {},
   "outputs": [
    {
     "name": "stdout",
     "output_type": "stream",
     "text": [
      "2 0\n"
     ]
    }
   ],
   "source": [
    "x = 1\n",
    "y = 2\n",
    "x += 1;  y -= 2\n",
    "print(x, y)"
   ]
  },
  {
   "cell_type": "code",
   "execution_count": null,
   "metadata": {
    "collapsed": true
   },
   "outputs": [],
   "source": []
  }
 ],
 "metadata": {
  "kernelspec": {
   "display_name": "Python 3",
   "language": "python",
   "name": "python3"
  },
  "language_info": {
   "codemirror_mode": {
    "name": "ipython",
    "version": 3
   },
   "file_extension": ".py",
   "mimetype": "text/x-python",
   "name": "python",
   "nbconvert_exporter": "python",
   "pygments_lexer": "ipython3",
   "version": "3.6.3"
  }
 },
 "nbformat": 4,
 "nbformat_minor": 2
}
