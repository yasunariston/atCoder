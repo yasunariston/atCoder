{
 "cells": [
  {
   "cell_type": "code",
   "execution_count": 20,
   "metadata": {},
   "outputs": [
    {
     "name": "stdout",
     "output_type": "stream",
     "text": [
      "213\n"
     ]
    }
   ],
   "source": [
    "A, B, C, X = int(input()), int(input()), int(input()), int(input())\n",
    "\n",
    "count = 0 \n",
    "\n",
    "for yen500 in range(A + 1):\n",
    "    for yen100 in range(B + 1):\n",
    "        for yen50 in range(C + 1):\n",
    "            restYen = X\n",
    "            restYen -= yen500 * 500\n",
    "            restYen -= yen100 * 100\n",
    "            restYen -= yen50 * 50\n",
    "            if restYen == 0:\n",
    "                count += 1\n",
    "print(count)"
   ]
  },
  {
   "cell_type": "code",
   "execution_count": 80,
   "metadata": {},
   "outputs": [
    {
     "name": "stdout",
     "output_type": "stream",
     "text": [
      "20 2 5\n"
     ]
    }
   ],
   "source": [
    "array = list(map(int, input().split()))\n",
    "N, A, B =array[0], array[1], array[2]"
   ]
  },
  {
   "cell_type": "code",
   "execution_count": 108,
   "metadata": {},
   "outputs": [
    {
     "name": "stdout",
     "output_type": "stream",
     "text": [
      "20 はいった\n",
      "20\n"
     ]
    }
   ],
   "source": [
    "import math\n",
    "\n",
    "allSum = 0\n",
    "for i in range(1, N + 1):\n",
    "    oneTime = 0\n",
    "    num = i\n",
    "    keta = int(math.log10(num)) + 1\n",
    "    for j in list(reversed(range(1, keta + 1))):\n",
    "        if \n",
    "\n",
    "print(allSum)"
   ]
  },
  {
   "cell_type": "code",
   "execution_count": 24,
   "metadata": {},
   "outputs": [
    {
     "name": "stdout",
     "output_type": "stream",
     "text": [
      "2\n"
     ]
    }
   ],
   "source": []
  },
  {
   "cell_type": "code",
   "execution_count": null,
   "metadata": {
    "collapsed": true
   },
   "outputs": [],
   "source": []
  }
 ],
 "metadata": {
  "kernelspec": {
   "display_name": "Python 3",
   "language": "python",
   "name": "python3"
  },
  "language_info": {
   "codemirror_mode": {
    "name": "ipython",
    "version": 3
   },
   "file_extension": ".py",
   "mimetype": "text/x-python",
   "name": "python",
   "nbconvert_exporter": "python",
   "pygments_lexer": "ipython3",
   "version": "3.6.3"
  }
 },
 "nbformat": 4,
 "nbformat_minor": 2
}
